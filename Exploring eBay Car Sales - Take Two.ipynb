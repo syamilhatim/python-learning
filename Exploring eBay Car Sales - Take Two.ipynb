{
 "cells": [
  {
   "cell_type": "markdown",
   "id": "26a29ac4",
   "metadata": {},
   "source": [
    "# Exploring eBay Car Sales Data with NumPy & Pandas\n",
    "This project will be a good exercise in utilizing everything we have learned thus far with NumPy and pandas. We will be cleaning up and aggregating a lot of data in this project, and we'll be doing it by using different indexing methods, boolean masks, and other data cleaning techniques. We have a \n",
    "\n",
    "The data dictionary provided with data is as follows:\n",
    "\n",
    "* dateCrawled - When this ad was first crawled. All field-values are taken from this date.\n",
    "* name - Name of the car.\n",
    "* seller - Whether the seller is private or a dealer.\n",
    "* offerType - The type of listing\n",
    "* price - The price on the ad to sell the car.\n",
    "* abtest - Whether the listing is included in an A/B test.\n",
    "* vehicleType - The vehicle Type.\n",
    "* yearOfRegistration - The year in which the car was first registered.\n",
    "* gearbox - The transmission type.\n",
    "* powerPS - The power of the car in PS.\n",
    "* model - The car model name.\n",
    "* kilometer - How many kilometers the car has driven.\n",
    "* monthOfRegistration - The month in which the car was first registered.\n",
    "* fuelType - What type of fuel the car uses.\n",
    "* brand - The brand of the car.\n",
    "* notRepairedDamage - If the car has a damage which is not yet repaired.\n",
    "* dateCreated - The date on which the eBay listing was created.\n",
    "* nrOfPictures - The number of pictures in the ad.\n",
    "* postalCode - The postal code for the location of the vehicle.\n",
    "* lastSeenOnline - When the crawler saw this ad last online.\n",
    "* The aim of this project is to clean the data and analyze the included used car listings. You'll also become familiar with some of the unique benefits jupyter notebook provides for pandas.\n",
    "\n",
    "Let's start by importing the libraries we need and reading the dataset into pandas."
   ]
  },
  {
   "cell_type": "code",
   "execution_count": 1,
   "id": "5f7f3636",
   "metadata": {},
   "outputs": [],
   "source": [
    "import numpy as np\n",
    "import pandas as pd\n",
    "import re\n",
    "\n",
    "#read in our data to a pandas dataframe\n",
    "#NOTE: pd.read_csv method needs the r for it to work properly due to file location\n",
    "autos = pd.read_csv(r'my_datasets\\auto.csv', encoding='Latin-1')"
   ]
  },
  {
   "cell_type": "code",
   "execution_count": 2,
   "id": "7efadd15",
   "metadata": {},
   "outputs": [
    {
     "data": {
      "text/html": [
       "<div>\n",
       "<style scoped>\n",
       "    .dataframe tbody tr th:only-of-type {\n",
       "        vertical-align: middle;\n",
       "    }\n",
       "\n",
       "    .dataframe tbody tr th {\n",
       "        vertical-align: top;\n",
       "    }\n",
       "\n",
       "    .dataframe thead th {\n",
       "        text-align: right;\n",
       "    }\n",
       "</style>\n",
       "<table border=\"1\" class=\"dataframe\">\n",
       "  <thead>\n",
       "    <tr style=\"text-align: right;\">\n",
       "      <th></th>\n",
       "      <th>dateCrawled</th>\n",
       "      <th>name</th>\n",
       "      <th>seller</th>\n",
       "      <th>offerType</th>\n",
       "      <th>price</th>\n",
       "      <th>abtest</th>\n",
       "      <th>vehicleType</th>\n",
       "      <th>yearOfRegistration</th>\n",
       "      <th>gearbox</th>\n",
       "      <th>powerPS</th>\n",
       "      <th>model</th>\n",
       "      <th>odometer</th>\n",
       "      <th>monthOfRegistration</th>\n",
       "      <th>fuelType</th>\n",
       "      <th>brand</th>\n",
       "      <th>notRepairedDamage</th>\n",
       "      <th>dateCreated</th>\n",
       "      <th>nrOfPictures</th>\n",
       "      <th>postalCode</th>\n",
       "      <th>lastSeen</th>\n",
       "    </tr>\n",
       "  </thead>\n",
       "  <tbody>\n",
       "    <tr>\n",
       "      <th>0</th>\n",
       "      <td>2016-03-26 17:47:46</td>\n",
       "      <td>Peugeot_807_160_NAVTECH_ON_BOARD</td>\n",
       "      <td>privat</td>\n",
       "      <td>Angebot</td>\n",
       "      <td>$5,000</td>\n",
       "      <td>control</td>\n",
       "      <td>bus</td>\n",
       "      <td>2004</td>\n",
       "      <td>manuell</td>\n",
       "      <td>158</td>\n",
       "      <td>andere</td>\n",
       "      <td>150,000km</td>\n",
       "      <td>3</td>\n",
       "      <td>lpg</td>\n",
       "      <td>peugeot</td>\n",
       "      <td>nein</td>\n",
       "      <td>2016-03-26 00:00:00</td>\n",
       "      <td>0</td>\n",
       "      <td>79588</td>\n",
       "      <td>2016-04-06 06:45:54</td>\n",
       "    </tr>\n",
       "    <tr>\n",
       "      <th>1</th>\n",
       "      <td>2016-04-04 13:38:56</td>\n",
       "      <td>BMW_740i_4_4_Liter_HAMANN_UMBAU_Mega_Optik</td>\n",
       "      <td>privat</td>\n",
       "      <td>Angebot</td>\n",
       "      <td>$8,500</td>\n",
       "      <td>control</td>\n",
       "      <td>limousine</td>\n",
       "      <td>1997</td>\n",
       "      <td>automatik</td>\n",
       "      <td>286</td>\n",
       "      <td>7er</td>\n",
       "      <td>150,000km</td>\n",
       "      <td>6</td>\n",
       "      <td>benzin</td>\n",
       "      <td>bmw</td>\n",
       "      <td>nein</td>\n",
       "      <td>2016-04-04 00:00:00</td>\n",
       "      <td>0</td>\n",
       "      <td>71034</td>\n",
       "      <td>2016-04-06 14:45:08</td>\n",
       "    </tr>\n",
       "    <tr>\n",
       "      <th>2</th>\n",
       "      <td>2016-03-26 18:57:24</td>\n",
       "      <td>Volkswagen_Golf_1.6_United</td>\n",
       "      <td>privat</td>\n",
       "      <td>Angebot</td>\n",
       "      <td>$8,990</td>\n",
       "      <td>test</td>\n",
       "      <td>limousine</td>\n",
       "      <td>2009</td>\n",
       "      <td>manuell</td>\n",
       "      <td>102</td>\n",
       "      <td>golf</td>\n",
       "      <td>70,000km</td>\n",
       "      <td>7</td>\n",
       "      <td>benzin</td>\n",
       "      <td>volkswagen</td>\n",
       "      <td>nein</td>\n",
       "      <td>2016-03-26 00:00:00</td>\n",
       "      <td>0</td>\n",
       "      <td>35394</td>\n",
       "      <td>2016-04-06 20:15:37</td>\n",
       "    </tr>\n",
       "    <tr>\n",
       "      <th>3</th>\n",
       "      <td>2016-03-12 16:58:10</td>\n",
       "      <td>Smart_smart_fortwo_coupe_softouch/F1/Klima/Pan...</td>\n",
       "      <td>privat</td>\n",
       "      <td>Angebot</td>\n",
       "      <td>$4,350</td>\n",
       "      <td>control</td>\n",
       "      <td>kleinwagen</td>\n",
       "      <td>2007</td>\n",
       "      <td>automatik</td>\n",
       "      <td>71</td>\n",
       "      <td>fortwo</td>\n",
       "      <td>70,000km</td>\n",
       "      <td>6</td>\n",
       "      <td>benzin</td>\n",
       "      <td>smart</td>\n",
       "      <td>nein</td>\n",
       "      <td>2016-03-12 00:00:00</td>\n",
       "      <td>0</td>\n",
       "      <td>33729</td>\n",
       "      <td>2016-03-15 03:16:28</td>\n",
       "    </tr>\n",
       "    <tr>\n",
       "      <th>4</th>\n",
       "      <td>2016-04-01 14:38:50</td>\n",
       "      <td>Ford_Focus_1_6_Benzin_TÜV_neu_ist_sehr_gepfleg...</td>\n",
       "      <td>privat</td>\n",
       "      <td>Angebot</td>\n",
       "      <td>$1,350</td>\n",
       "      <td>test</td>\n",
       "      <td>kombi</td>\n",
       "      <td>2003</td>\n",
       "      <td>manuell</td>\n",
       "      <td>0</td>\n",
       "      <td>focus</td>\n",
       "      <td>150,000km</td>\n",
       "      <td>7</td>\n",
       "      <td>benzin</td>\n",
       "      <td>ford</td>\n",
       "      <td>nein</td>\n",
       "      <td>2016-04-01 00:00:00</td>\n",
       "      <td>0</td>\n",
       "      <td>39218</td>\n",
       "      <td>2016-04-01 14:38:50</td>\n",
       "    </tr>\n",
       "    <tr>\n",
       "      <th>...</th>\n",
       "      <td>...</td>\n",
       "      <td>...</td>\n",
       "      <td>...</td>\n",
       "      <td>...</td>\n",
       "      <td>...</td>\n",
       "      <td>...</td>\n",
       "      <td>...</td>\n",
       "      <td>...</td>\n",
       "      <td>...</td>\n",
       "      <td>...</td>\n",
       "      <td>...</td>\n",
       "      <td>...</td>\n",
       "      <td>...</td>\n",
       "      <td>...</td>\n",
       "      <td>...</td>\n",
       "      <td>...</td>\n",
       "      <td>...</td>\n",
       "      <td>...</td>\n",
       "      <td>...</td>\n",
       "      <td>...</td>\n",
       "    </tr>\n",
       "    <tr>\n",
       "      <th>49995</th>\n",
       "      <td>2016-03-27 14:38:19</td>\n",
       "      <td>Audi_Q5_3.0_TDI_qu._S_tr.__Navi__Panorama__Xenon</td>\n",
       "      <td>privat</td>\n",
       "      <td>Angebot</td>\n",
       "      <td>$24,900</td>\n",
       "      <td>control</td>\n",
       "      <td>limousine</td>\n",
       "      <td>2011</td>\n",
       "      <td>automatik</td>\n",
       "      <td>239</td>\n",
       "      <td>q5</td>\n",
       "      <td>100,000km</td>\n",
       "      <td>1</td>\n",
       "      <td>diesel</td>\n",
       "      <td>audi</td>\n",
       "      <td>nein</td>\n",
       "      <td>2016-03-27 00:00:00</td>\n",
       "      <td>0</td>\n",
       "      <td>82131</td>\n",
       "      <td>2016-04-01 13:47:40</td>\n",
       "    </tr>\n",
       "    <tr>\n",
       "      <th>49996</th>\n",
       "      <td>2016-03-28 10:50:25</td>\n",
       "      <td>Opel_Astra_F_Cabrio_Bertone_Edition___TÜV_neu+...</td>\n",
       "      <td>privat</td>\n",
       "      <td>Angebot</td>\n",
       "      <td>$1,980</td>\n",
       "      <td>control</td>\n",
       "      <td>cabrio</td>\n",
       "      <td>1996</td>\n",
       "      <td>manuell</td>\n",
       "      <td>75</td>\n",
       "      <td>astra</td>\n",
       "      <td>150,000km</td>\n",
       "      <td>5</td>\n",
       "      <td>benzin</td>\n",
       "      <td>opel</td>\n",
       "      <td>nein</td>\n",
       "      <td>2016-03-28 00:00:00</td>\n",
       "      <td>0</td>\n",
       "      <td>44807</td>\n",
       "      <td>2016-04-02 14:18:02</td>\n",
       "    </tr>\n",
       "    <tr>\n",
       "      <th>49997</th>\n",
       "      <td>2016-04-02 14:44:48</td>\n",
       "      <td>Fiat_500_C_1.2_Dualogic_Lounge</td>\n",
       "      <td>privat</td>\n",
       "      <td>Angebot</td>\n",
       "      <td>$13,200</td>\n",
       "      <td>test</td>\n",
       "      <td>cabrio</td>\n",
       "      <td>2014</td>\n",
       "      <td>automatik</td>\n",
       "      <td>69</td>\n",
       "      <td>500</td>\n",
       "      <td>5,000km</td>\n",
       "      <td>11</td>\n",
       "      <td>benzin</td>\n",
       "      <td>fiat</td>\n",
       "      <td>nein</td>\n",
       "      <td>2016-04-02 00:00:00</td>\n",
       "      <td>0</td>\n",
       "      <td>73430</td>\n",
       "      <td>2016-04-04 11:47:27</td>\n",
       "    </tr>\n",
       "    <tr>\n",
       "      <th>49998</th>\n",
       "      <td>2016-03-08 19:25:42</td>\n",
       "      <td>Audi_A3_2.0_TDI_Sportback_Ambition</td>\n",
       "      <td>privat</td>\n",
       "      <td>Angebot</td>\n",
       "      <td>$22,900</td>\n",
       "      <td>control</td>\n",
       "      <td>kombi</td>\n",
       "      <td>2013</td>\n",
       "      <td>manuell</td>\n",
       "      <td>150</td>\n",
       "      <td>a3</td>\n",
       "      <td>40,000km</td>\n",
       "      <td>11</td>\n",
       "      <td>diesel</td>\n",
       "      <td>audi</td>\n",
       "      <td>nein</td>\n",
       "      <td>2016-03-08 00:00:00</td>\n",
       "      <td>0</td>\n",
       "      <td>35683</td>\n",
       "      <td>2016-04-05 16:45:07</td>\n",
       "    </tr>\n",
       "    <tr>\n",
       "      <th>49999</th>\n",
       "      <td>2016-03-14 00:42:12</td>\n",
       "      <td>Opel_Vectra_1.6_16V</td>\n",
       "      <td>privat</td>\n",
       "      <td>Angebot</td>\n",
       "      <td>$1,250</td>\n",
       "      <td>control</td>\n",
       "      <td>limousine</td>\n",
       "      <td>1996</td>\n",
       "      <td>manuell</td>\n",
       "      <td>101</td>\n",
       "      <td>vectra</td>\n",
       "      <td>150,000km</td>\n",
       "      <td>1</td>\n",
       "      <td>benzin</td>\n",
       "      <td>opel</td>\n",
       "      <td>nein</td>\n",
       "      <td>2016-03-13 00:00:00</td>\n",
       "      <td>0</td>\n",
       "      <td>45897</td>\n",
       "      <td>2016-04-06 21:18:48</td>\n",
       "    </tr>\n",
       "  </tbody>\n",
       "</table>\n",
       "<p>50000 rows × 20 columns</p>\n",
       "</div>"
      ],
      "text/plain": [
       "               dateCrawled                                               name  \\\n",
       "0      2016-03-26 17:47:46                   Peugeot_807_160_NAVTECH_ON_BOARD   \n",
       "1      2016-04-04 13:38:56         BMW_740i_4_4_Liter_HAMANN_UMBAU_Mega_Optik   \n",
       "2      2016-03-26 18:57:24                         Volkswagen_Golf_1.6_United   \n",
       "3      2016-03-12 16:58:10  Smart_smart_fortwo_coupe_softouch/F1/Klima/Pan...   \n",
       "4      2016-04-01 14:38:50  Ford_Focus_1_6_Benzin_TÜV_neu_ist_sehr_gepfleg...   \n",
       "...                    ...                                                ...   \n",
       "49995  2016-03-27 14:38:19   Audi_Q5_3.0_TDI_qu._S_tr.__Navi__Panorama__Xenon   \n",
       "49996  2016-03-28 10:50:25  Opel_Astra_F_Cabrio_Bertone_Edition___TÜV_neu+...   \n",
       "49997  2016-04-02 14:44:48                     Fiat_500_C_1.2_Dualogic_Lounge   \n",
       "49998  2016-03-08 19:25:42                 Audi_A3_2.0_TDI_Sportback_Ambition   \n",
       "49999  2016-03-14 00:42:12                                Opel_Vectra_1.6_16V   \n",
       "\n",
       "       seller offerType    price   abtest vehicleType  yearOfRegistration  \\\n",
       "0      privat   Angebot   $5,000  control         bus                2004   \n",
       "1      privat   Angebot   $8,500  control   limousine                1997   \n",
       "2      privat   Angebot   $8,990     test   limousine                2009   \n",
       "3      privat   Angebot   $4,350  control  kleinwagen                2007   \n",
       "4      privat   Angebot   $1,350     test       kombi                2003   \n",
       "...       ...       ...      ...      ...         ...                 ...   \n",
       "49995  privat   Angebot  $24,900  control   limousine                2011   \n",
       "49996  privat   Angebot   $1,980  control      cabrio                1996   \n",
       "49997  privat   Angebot  $13,200     test      cabrio                2014   \n",
       "49998  privat   Angebot  $22,900  control       kombi                2013   \n",
       "49999  privat   Angebot   $1,250  control   limousine                1996   \n",
       "\n",
       "         gearbox  powerPS   model   odometer  monthOfRegistration fuelType  \\\n",
       "0        manuell      158  andere  150,000km                    3      lpg   \n",
       "1      automatik      286     7er  150,000km                    6   benzin   \n",
       "2        manuell      102    golf   70,000km                    7   benzin   \n",
       "3      automatik       71  fortwo   70,000km                    6   benzin   \n",
       "4        manuell        0   focus  150,000km                    7   benzin   \n",
       "...          ...      ...     ...        ...                  ...      ...   \n",
       "49995  automatik      239      q5  100,000km                    1   diesel   \n",
       "49996    manuell       75   astra  150,000km                    5   benzin   \n",
       "49997  automatik       69     500    5,000km                   11   benzin   \n",
       "49998    manuell      150      a3   40,000km                   11   diesel   \n",
       "49999    manuell      101  vectra  150,000km                    1   benzin   \n",
       "\n",
       "            brand notRepairedDamage          dateCreated  nrOfPictures  \\\n",
       "0         peugeot              nein  2016-03-26 00:00:00             0   \n",
       "1             bmw              nein  2016-04-04 00:00:00             0   \n",
       "2      volkswagen              nein  2016-03-26 00:00:00             0   \n",
       "3           smart              nein  2016-03-12 00:00:00             0   \n",
       "4            ford              nein  2016-04-01 00:00:00             0   \n",
       "...           ...               ...                  ...           ...   \n",
       "49995        audi              nein  2016-03-27 00:00:00             0   \n",
       "49996        opel              nein  2016-03-28 00:00:00             0   \n",
       "49997        fiat              nein  2016-04-02 00:00:00             0   \n",
       "49998        audi              nein  2016-03-08 00:00:00             0   \n",
       "49999        opel              nein  2016-03-13 00:00:00             0   \n",
       "\n",
       "       postalCode             lastSeen  \n",
       "0           79588  2016-04-06 06:45:54  \n",
       "1           71034  2016-04-06 14:45:08  \n",
       "2           35394  2016-04-06 20:15:37  \n",
       "3           33729  2016-03-15 03:16:28  \n",
       "4           39218  2016-04-01 14:38:50  \n",
       "...           ...                  ...  \n",
       "49995       82131  2016-04-01 13:47:40  \n",
       "49996       44807  2016-04-02 14:18:02  \n",
       "49997       73430  2016-04-04 11:47:27  \n",
       "49998       35683  2016-04-05 16:45:07  \n",
       "49999       45897  2016-04-06 21:18:48  \n",
       "\n",
       "[50000 rows x 20 columns]"
      ]
     },
     "execution_count": 2,
     "metadata": {},
     "output_type": "execute_result"
    }
   ],
   "source": [
    "autos"
   ]
  },
  {
   "cell_type": "code",
   "execution_count": 3,
   "id": "1ef805d1",
   "metadata": {},
   "outputs": [
    {
     "name": "stdout",
     "output_type": "stream",
     "text": [
      "<class 'pandas.core.frame.DataFrame'>\n",
      "RangeIndex: 50000 entries, 0 to 49999\n",
      "Data columns (total 20 columns):\n",
      " #   Column               Non-Null Count  Dtype \n",
      "---  ------               --------------  ----- \n",
      " 0   dateCrawled          50000 non-null  object\n",
      " 1   name                 50000 non-null  object\n",
      " 2   seller               50000 non-null  object\n",
      " 3   offerType            50000 non-null  object\n",
      " 4   price                50000 non-null  object\n",
      " 5   abtest               50000 non-null  object\n",
      " 6   vehicleType          44905 non-null  object\n",
      " 7   yearOfRegistration   50000 non-null  int64 \n",
      " 8   gearbox              47320 non-null  object\n",
      " 9   powerPS              50000 non-null  int64 \n",
      " 10  model                47242 non-null  object\n",
      " 11  odometer             50000 non-null  object\n",
      " 12  monthOfRegistration  50000 non-null  int64 \n",
      " 13  fuelType             45518 non-null  object\n",
      " 14  brand                50000 non-null  object\n",
      " 15  notRepairedDamage    40171 non-null  object\n",
      " 16  dateCreated          50000 non-null  object\n",
      " 17  nrOfPictures         50000 non-null  int64 \n",
      " 18  postalCode           50000 non-null  int64 \n",
      " 19  lastSeen             50000 non-null  object\n",
      "dtypes: int64(5), object(15)\n",
      "memory usage: 7.6+ MB\n"
     ]
    },
    {
     "data": {
      "text/html": [
       "<div>\n",
       "<style scoped>\n",
       "    .dataframe tbody tr th:only-of-type {\n",
       "        vertical-align: middle;\n",
       "    }\n",
       "\n",
       "    .dataframe tbody tr th {\n",
       "        vertical-align: top;\n",
       "    }\n",
       "\n",
       "    .dataframe thead th {\n",
       "        text-align: right;\n",
       "    }\n",
       "</style>\n",
       "<table border=\"1\" class=\"dataframe\">\n",
       "  <thead>\n",
       "    <tr style=\"text-align: right;\">\n",
       "      <th></th>\n",
       "      <th>dateCrawled</th>\n",
       "      <th>name</th>\n",
       "      <th>seller</th>\n",
       "      <th>offerType</th>\n",
       "      <th>price</th>\n",
       "      <th>abtest</th>\n",
       "      <th>vehicleType</th>\n",
       "      <th>yearOfRegistration</th>\n",
       "      <th>gearbox</th>\n",
       "      <th>powerPS</th>\n",
       "      <th>model</th>\n",
       "      <th>odometer</th>\n",
       "      <th>monthOfRegistration</th>\n",
       "      <th>fuelType</th>\n",
       "      <th>brand</th>\n",
       "      <th>notRepairedDamage</th>\n",
       "      <th>dateCreated</th>\n",
       "      <th>nrOfPictures</th>\n",
       "      <th>postalCode</th>\n",
       "      <th>lastSeen</th>\n",
       "    </tr>\n",
       "  </thead>\n",
       "  <tbody>\n",
       "    <tr>\n",
       "      <th>0</th>\n",
       "      <td>2016-03-26 17:47:46</td>\n",
       "      <td>Peugeot_807_160_NAVTECH_ON_BOARD</td>\n",
       "      <td>privat</td>\n",
       "      <td>Angebot</td>\n",
       "      <td>$5,000</td>\n",
       "      <td>control</td>\n",
       "      <td>bus</td>\n",
       "      <td>2004</td>\n",
       "      <td>manuell</td>\n",
       "      <td>158</td>\n",
       "      <td>andere</td>\n",
       "      <td>150,000km</td>\n",
       "      <td>3</td>\n",
       "      <td>lpg</td>\n",
       "      <td>peugeot</td>\n",
       "      <td>nein</td>\n",
       "      <td>2016-03-26 00:00:00</td>\n",
       "      <td>0</td>\n",
       "      <td>79588</td>\n",
       "      <td>2016-04-06 06:45:54</td>\n",
       "    </tr>\n",
       "    <tr>\n",
       "      <th>1</th>\n",
       "      <td>2016-04-04 13:38:56</td>\n",
       "      <td>BMW_740i_4_4_Liter_HAMANN_UMBAU_Mega_Optik</td>\n",
       "      <td>privat</td>\n",
       "      <td>Angebot</td>\n",
       "      <td>$8,500</td>\n",
       "      <td>control</td>\n",
       "      <td>limousine</td>\n",
       "      <td>1997</td>\n",
       "      <td>automatik</td>\n",
       "      <td>286</td>\n",
       "      <td>7er</td>\n",
       "      <td>150,000km</td>\n",
       "      <td>6</td>\n",
       "      <td>benzin</td>\n",
       "      <td>bmw</td>\n",
       "      <td>nein</td>\n",
       "      <td>2016-04-04 00:00:00</td>\n",
       "      <td>0</td>\n",
       "      <td>71034</td>\n",
       "      <td>2016-04-06 14:45:08</td>\n",
       "    </tr>\n",
       "    <tr>\n",
       "      <th>2</th>\n",
       "      <td>2016-03-26 18:57:24</td>\n",
       "      <td>Volkswagen_Golf_1.6_United</td>\n",
       "      <td>privat</td>\n",
       "      <td>Angebot</td>\n",
       "      <td>$8,990</td>\n",
       "      <td>test</td>\n",
       "      <td>limousine</td>\n",
       "      <td>2009</td>\n",
       "      <td>manuell</td>\n",
       "      <td>102</td>\n",
       "      <td>golf</td>\n",
       "      <td>70,000km</td>\n",
       "      <td>7</td>\n",
       "      <td>benzin</td>\n",
       "      <td>volkswagen</td>\n",
       "      <td>nein</td>\n",
       "      <td>2016-03-26 00:00:00</td>\n",
       "      <td>0</td>\n",
       "      <td>35394</td>\n",
       "      <td>2016-04-06 20:15:37</td>\n",
       "    </tr>\n",
       "    <tr>\n",
       "      <th>3</th>\n",
       "      <td>2016-03-12 16:58:10</td>\n",
       "      <td>Smart_smart_fortwo_coupe_softouch/F1/Klima/Pan...</td>\n",
       "      <td>privat</td>\n",
       "      <td>Angebot</td>\n",
       "      <td>$4,350</td>\n",
       "      <td>control</td>\n",
       "      <td>kleinwagen</td>\n",
       "      <td>2007</td>\n",
       "      <td>automatik</td>\n",
       "      <td>71</td>\n",
       "      <td>fortwo</td>\n",
       "      <td>70,000km</td>\n",
       "      <td>6</td>\n",
       "      <td>benzin</td>\n",
       "      <td>smart</td>\n",
       "      <td>nein</td>\n",
       "      <td>2016-03-12 00:00:00</td>\n",
       "      <td>0</td>\n",
       "      <td>33729</td>\n",
       "      <td>2016-03-15 03:16:28</td>\n",
       "    </tr>\n",
       "    <tr>\n",
       "      <th>4</th>\n",
       "      <td>2016-04-01 14:38:50</td>\n",
       "      <td>Ford_Focus_1_6_Benzin_TÜV_neu_ist_sehr_gepfleg...</td>\n",
       "      <td>privat</td>\n",
       "      <td>Angebot</td>\n",
       "      <td>$1,350</td>\n",
       "      <td>test</td>\n",
       "      <td>kombi</td>\n",
       "      <td>2003</td>\n",
       "      <td>manuell</td>\n",
       "      <td>0</td>\n",
       "      <td>focus</td>\n",
       "      <td>150,000km</td>\n",
       "      <td>7</td>\n",
       "      <td>benzin</td>\n",
       "      <td>ford</td>\n",
       "      <td>nein</td>\n",
       "      <td>2016-04-01 00:00:00</td>\n",
       "      <td>0</td>\n",
       "      <td>39218</td>\n",
       "      <td>2016-04-01 14:38:50</td>\n",
       "    </tr>\n",
       "  </tbody>\n",
       "</table>\n",
       "</div>"
      ],
      "text/plain": [
       "           dateCrawled                                               name  \\\n",
       "0  2016-03-26 17:47:46                   Peugeot_807_160_NAVTECH_ON_BOARD   \n",
       "1  2016-04-04 13:38:56         BMW_740i_4_4_Liter_HAMANN_UMBAU_Mega_Optik   \n",
       "2  2016-03-26 18:57:24                         Volkswagen_Golf_1.6_United   \n",
       "3  2016-03-12 16:58:10  Smart_smart_fortwo_coupe_softouch/F1/Klima/Pan...   \n",
       "4  2016-04-01 14:38:50  Ford_Focus_1_6_Benzin_TÜV_neu_ist_sehr_gepfleg...   \n",
       "\n",
       "   seller offerType   price   abtest vehicleType  yearOfRegistration  \\\n",
       "0  privat   Angebot  $5,000  control         bus                2004   \n",
       "1  privat   Angebot  $8,500  control   limousine                1997   \n",
       "2  privat   Angebot  $8,990     test   limousine                2009   \n",
       "3  privat   Angebot  $4,350  control  kleinwagen                2007   \n",
       "4  privat   Angebot  $1,350     test       kombi                2003   \n",
       "\n",
       "     gearbox  powerPS   model   odometer  monthOfRegistration fuelType  \\\n",
       "0    manuell      158  andere  150,000km                    3      lpg   \n",
       "1  automatik      286     7er  150,000km                    6   benzin   \n",
       "2    manuell      102    golf   70,000km                    7   benzin   \n",
       "3  automatik       71  fortwo   70,000km                    6   benzin   \n",
       "4    manuell        0   focus  150,000km                    7   benzin   \n",
       "\n",
       "        brand notRepairedDamage          dateCreated  nrOfPictures  \\\n",
       "0     peugeot              nein  2016-03-26 00:00:00             0   \n",
       "1         bmw              nein  2016-04-04 00:00:00             0   \n",
       "2  volkswagen              nein  2016-03-26 00:00:00             0   \n",
       "3       smart              nein  2016-03-12 00:00:00             0   \n",
       "4        ford              nein  2016-04-01 00:00:00             0   \n",
       "\n",
       "   postalCode             lastSeen  \n",
       "0       79588  2016-04-06 06:45:54  \n",
       "1       71034  2016-04-06 14:45:08  \n",
       "2       35394  2016-04-06 20:15:37  \n",
       "3       33729  2016-03-15 03:16:28  \n",
       "4       39218  2016-04-01 14:38:50  "
      ]
     },
     "execution_count": 3,
     "metadata": {},
     "output_type": "execute_result"
    }
   ],
   "source": [
    "autos.info()\n",
    "autos.head()"
   ]
  },
  {
   "cell_type": "markdown",
   "id": "0f4adfea",
   "metadata": {},
   "source": [
    "As we can see from the above, we have a ton of data, and some of it is in German. We have many columns containing strings and int datatypes. There are lots of inconsistencies and abnormalities within this dataset. There are a lot of null-values in our data as well. Before we do anything serious, let's organize our column names a bit first. We'll turn all of the camelCase column names into snake_case, as well as rename some of the columns to make them a bit more descriptive and logical."
   ]
  },
  {
   "cell_type": "code",
   "execution_count": 4,
   "id": "fc824830",
   "metadata": {},
   "outputs": [
    {
     "data": {
      "text/plain": [
       "Index(['dateCrawled', 'name', 'seller', 'offerType', 'price', 'abtest',\n",
       "       'vehicleType', 'yearOfRegistration', 'gearbox', 'powerPS', 'model',\n",
       "       'odometer', 'monthOfRegistration', 'fuelType', 'brand',\n",
       "       'notRepairedDamage', 'dateCreated', 'nrOfPictures', 'postalCode',\n",
       "       'lastSeen'],\n",
       "      dtype='object')"
      ]
     },
     "execution_count": 4,
     "metadata": {},
     "output_type": "execute_result"
    }
   ],
   "source": [
    "autos.columns"
   ]
  },
  {
   "cell_type": "code",
   "execution_count": 5,
   "id": "f12194b4",
   "metadata": {},
   "outputs": [
    {
     "data": {
      "text/html": [
       "<div>\n",
       "<style scoped>\n",
       "    .dataframe tbody tr th:only-of-type {\n",
       "        vertical-align: middle;\n",
       "    }\n",
       "\n",
       "    .dataframe tbody tr th {\n",
       "        vertical-align: top;\n",
       "    }\n",
       "\n",
       "    .dataframe thead th {\n",
       "        text-align: right;\n",
       "    }\n",
       "</style>\n",
       "<table border=\"1\" class=\"dataframe\">\n",
       "  <thead>\n",
       "    <tr style=\"text-align: right;\">\n",
       "      <th></th>\n",
       "      <th>date_crawled</th>\n",
       "      <th>name</th>\n",
       "      <th>seller</th>\n",
       "      <th>offer_type</th>\n",
       "      <th>price</th>\n",
       "      <th>abtest</th>\n",
       "      <th>vehicle_type</th>\n",
       "      <th>registration_year</th>\n",
       "      <th>gearbox</th>\n",
       "      <th>power_ps</th>\n",
       "      <th>model</th>\n",
       "      <th>odometer</th>\n",
       "      <th>registration_month</th>\n",
       "      <th>fuel_type</th>\n",
       "      <th>brand</th>\n",
       "      <th>unrepaired_damage</th>\n",
       "      <th>ad_created</th>\n",
       "      <th>num_photos</th>\n",
       "      <th>postal_code</th>\n",
       "      <th>last_seen</th>\n",
       "    </tr>\n",
       "  </thead>\n",
       "  <tbody>\n",
       "    <tr>\n",
       "      <th>0</th>\n",
       "      <td>2016-03-26 17:47:46</td>\n",
       "      <td>Peugeot_807_160_NAVTECH_ON_BOARD</td>\n",
       "      <td>privat</td>\n",
       "      <td>Angebot</td>\n",
       "      <td>$5,000</td>\n",
       "      <td>control</td>\n",
       "      <td>bus</td>\n",
       "      <td>2004</td>\n",
       "      <td>manuell</td>\n",
       "      <td>158</td>\n",
       "      <td>andere</td>\n",
       "      <td>150,000km</td>\n",
       "      <td>3</td>\n",
       "      <td>lpg</td>\n",
       "      <td>peugeot</td>\n",
       "      <td>nein</td>\n",
       "      <td>2016-03-26 00:00:00</td>\n",
       "      <td>0</td>\n",
       "      <td>79588</td>\n",
       "      <td>2016-04-06 06:45:54</td>\n",
       "    </tr>\n",
       "    <tr>\n",
       "      <th>1</th>\n",
       "      <td>2016-04-04 13:38:56</td>\n",
       "      <td>BMW_740i_4_4_Liter_HAMANN_UMBAU_Mega_Optik</td>\n",
       "      <td>privat</td>\n",
       "      <td>Angebot</td>\n",
       "      <td>$8,500</td>\n",
       "      <td>control</td>\n",
       "      <td>limousine</td>\n",
       "      <td>1997</td>\n",
       "      <td>automatik</td>\n",
       "      <td>286</td>\n",
       "      <td>7er</td>\n",
       "      <td>150,000km</td>\n",
       "      <td>6</td>\n",
       "      <td>benzin</td>\n",
       "      <td>bmw</td>\n",
       "      <td>nein</td>\n",
       "      <td>2016-04-04 00:00:00</td>\n",
       "      <td>0</td>\n",
       "      <td>71034</td>\n",
       "      <td>2016-04-06 14:45:08</td>\n",
       "    </tr>\n",
       "    <tr>\n",
       "      <th>2</th>\n",
       "      <td>2016-03-26 18:57:24</td>\n",
       "      <td>Volkswagen_Golf_1.6_United</td>\n",
       "      <td>privat</td>\n",
       "      <td>Angebot</td>\n",
       "      <td>$8,990</td>\n",
       "      <td>test</td>\n",
       "      <td>limousine</td>\n",
       "      <td>2009</td>\n",
       "      <td>manuell</td>\n",
       "      <td>102</td>\n",
       "      <td>golf</td>\n",
       "      <td>70,000km</td>\n",
       "      <td>7</td>\n",
       "      <td>benzin</td>\n",
       "      <td>volkswagen</td>\n",
       "      <td>nein</td>\n",
       "      <td>2016-03-26 00:00:00</td>\n",
       "      <td>0</td>\n",
       "      <td>35394</td>\n",
       "      <td>2016-04-06 20:15:37</td>\n",
       "    </tr>\n",
       "    <tr>\n",
       "      <th>3</th>\n",
       "      <td>2016-03-12 16:58:10</td>\n",
       "      <td>Smart_smart_fortwo_coupe_softouch/F1/Klima/Pan...</td>\n",
       "      <td>privat</td>\n",
       "      <td>Angebot</td>\n",
       "      <td>$4,350</td>\n",
       "      <td>control</td>\n",
       "      <td>kleinwagen</td>\n",
       "      <td>2007</td>\n",
       "      <td>automatik</td>\n",
       "      <td>71</td>\n",
       "      <td>fortwo</td>\n",
       "      <td>70,000km</td>\n",
       "      <td>6</td>\n",
       "      <td>benzin</td>\n",
       "      <td>smart</td>\n",
       "      <td>nein</td>\n",
       "      <td>2016-03-12 00:00:00</td>\n",
       "      <td>0</td>\n",
       "      <td>33729</td>\n",
       "      <td>2016-03-15 03:16:28</td>\n",
       "    </tr>\n",
       "    <tr>\n",
       "      <th>4</th>\n",
       "      <td>2016-04-01 14:38:50</td>\n",
       "      <td>Ford_Focus_1_6_Benzin_TÜV_neu_ist_sehr_gepfleg...</td>\n",
       "      <td>privat</td>\n",
       "      <td>Angebot</td>\n",
       "      <td>$1,350</td>\n",
       "      <td>test</td>\n",
       "      <td>kombi</td>\n",
       "      <td>2003</td>\n",
       "      <td>manuell</td>\n",
       "      <td>0</td>\n",
       "      <td>focus</td>\n",
       "      <td>150,000km</td>\n",
       "      <td>7</td>\n",
       "      <td>benzin</td>\n",
       "      <td>ford</td>\n",
       "      <td>nein</td>\n",
       "      <td>2016-04-01 00:00:00</td>\n",
       "      <td>0</td>\n",
       "      <td>39218</td>\n",
       "      <td>2016-04-01 14:38:50</td>\n",
       "    </tr>\n",
       "  </tbody>\n",
       "</table>\n",
       "</div>"
      ],
      "text/plain": [
       "          date_crawled                                               name  \\\n",
       "0  2016-03-26 17:47:46                   Peugeot_807_160_NAVTECH_ON_BOARD   \n",
       "1  2016-04-04 13:38:56         BMW_740i_4_4_Liter_HAMANN_UMBAU_Mega_Optik   \n",
       "2  2016-03-26 18:57:24                         Volkswagen_Golf_1.6_United   \n",
       "3  2016-03-12 16:58:10  Smart_smart_fortwo_coupe_softouch/F1/Klima/Pan...   \n",
       "4  2016-04-01 14:38:50  Ford_Focus_1_6_Benzin_TÜV_neu_ist_sehr_gepfleg...   \n",
       "\n",
       "   seller offer_type   price   abtest vehicle_type  registration_year  \\\n",
       "0  privat    Angebot  $5,000  control          bus               2004   \n",
       "1  privat    Angebot  $8,500  control    limousine               1997   \n",
       "2  privat    Angebot  $8,990     test    limousine               2009   \n",
       "3  privat    Angebot  $4,350  control   kleinwagen               2007   \n",
       "4  privat    Angebot  $1,350     test        kombi               2003   \n",
       "\n",
       "     gearbox  power_ps   model   odometer  registration_month fuel_type  \\\n",
       "0    manuell       158  andere  150,000km                   3       lpg   \n",
       "1  automatik       286     7er  150,000km                   6    benzin   \n",
       "2    manuell       102    golf   70,000km                   7    benzin   \n",
       "3  automatik        71  fortwo   70,000km                   6    benzin   \n",
       "4    manuell         0   focus  150,000km                   7    benzin   \n",
       "\n",
       "        brand unrepaired_damage           ad_created  num_photos  postal_code  \\\n",
       "0     peugeot              nein  2016-03-26 00:00:00           0        79588   \n",
       "1         bmw              nein  2016-04-04 00:00:00           0        71034   \n",
       "2  volkswagen              nein  2016-03-26 00:00:00           0        35394   \n",
       "3       smart              nein  2016-03-12 00:00:00           0        33729   \n",
       "4        ford              nein  2016-04-01 00:00:00           0        39218   \n",
       "\n",
       "             last_seen  \n",
       "0  2016-04-06 06:45:54  \n",
       "1  2016-04-06 14:45:08  \n",
       "2  2016-04-06 20:15:37  \n",
       "3  2016-03-15 03:16:28  \n",
       "4  2016-04-01 14:38:50  "
      ]
     },
     "execution_count": 5,
     "metadata": {},
     "output_type": "execute_result"
    }
   ],
   "source": [
    "def camel_to_snake(text): #i found this online, and it works\n",
    "    import re\n",
    "    str1 = re.sub('(.)([A-Z][a-z]+)', r'\\1_\\2', text)\n",
    "    return re.sub('([a-z0-9])([A-Z])', r'\\1_\\2', str1).lower()\n",
    "    \n",
    "def replace_col(col):\n",
    "    col = col.replace(\"year_of_registration\",\"registration_year\")\n",
    "    col = col.replace(\"month_of_registration\",\"registration_month\")\n",
    "    col = col.replace(\"not_repaired_damage\",\"unrepaired_damage\")\n",
    "    col = col.replace(\"nr_of_pictures\",\"num_photos\")\n",
    "    col = col.replace(\"date_created\",\"ad_created\")\n",
    "    col = col.replace(\"kilometer\",\"odometer_km\")\n",
    "    return col\n",
    "\n",
    "temp_col = autos.columns\n",
    "new_columns = []\n",
    "for c in temp_col:\n",
    "    c = camel_to_snake(c)\n",
    "    c = replace_col(c)\n",
    "    new_columns.append(c)\n",
    "    \n",
    "autos.columns = new_columns\n",
    "autos.head() #test"
   ]
  },
  {
   "cell_type": "markdown",
   "id": "f864f6d9",
   "metadata": {},
   "source": [
    "So now we have our columns ready to go. We changed a couple of column names completely, purely to make them shorter and more consistent with the others. Since this came from the German eBay, perhaps some things have gotten a bit lost in translation as well. For example, \"notRepairedDamage\" can be a bit confusing, so we've changed it to \"unrepaired_damage\".\n",
    "\n",
    "Now we're going to explore the data a bit more to see if there's anything we can simplify. For example, text columns where all or almost all of the values are the same. We can simply remove these as they don't add much for analysis purposes. Also any numeric data that is stored as text can be edited, cleaned, and converted."
   ]
  },
  {
   "cell_type": "code",
   "execution_count": 6,
   "id": "f23ee55f",
   "metadata": {},
   "outputs": [
    {
     "name": "stdout",
     "output_type": "stream",
     "text": [
      "2016-03-21 20:37:19    3\n",
      "2016-03-30 17:37:35    3\n",
      "2016-03-09 11:54:38    3\n",
      "2016-03-23 18:39:34    3\n",
      "2016-03-29 23:42:13    3\n",
      "                      ..\n",
      "2016-03-31 11:57:12    1\n",
      "2016-03-05 22:39:50    1\n",
      "2016-03-07 11:52:22    1\n",
      "2016-03-09 21:45:42    1\n",
      "2016-03-07 10:40:55    1\n",
      "Name: date_crawled, Length: 48213, dtype: int64 \n",
      "\n",
      "Ford_Fiesta                                                       78\n",
      "Volkswagen_Golf_1.4                                               75\n",
      "BMW_316i                                                          75\n",
      "BMW_318i                                                          72\n",
      "Volkswagen_Polo                                                   72\n",
      "                                                                  ..\n",
      "VW_Caddy_5_Sitzer__wenig_Kilometer_                                1\n",
      "Volkswagen_POLO_6n_1.4                                             1\n",
      "Mercedes_Benz_SL_55_AMG_Automatik_Vmax_300_Garantie_bis_6.5.16     1\n",
      "Mercedes_Benz_CLK_Coupe_230_Kompressor_Master_Edition              1\n",
      "!!!_TOP_!!!_gepflegter_Colt_zu_verkaufen                           1\n",
      "Name: name, Length: 38754, dtype: int64 \n",
      "\n",
      "privat        49999\n",
      "gewerblich        1\n",
      "Name: seller, dtype: int64 \n",
      "\n",
      "Angebot    49999\n",
      "Gesuch         1\n",
      "Name: offer_type, dtype: int64 \n",
      "\n",
      "$0         1421\n",
      "$500        781\n",
      "$1,500      734\n",
      "$2,500      643\n",
      "$1,000      639\n",
      "           ... \n",
      "$5,255        1\n",
      "$9,130        1\n",
      "$55,996       1\n",
      "$10,080       1\n",
      "$122          1\n",
      "Name: price, Length: 2357, dtype: int64 \n",
      "\n",
      "test       25756\n",
      "control    24244\n",
      "Name: abtest, dtype: int64 \n",
      "\n",
      "limousine     12859\n",
      "kleinwagen    10822\n",
      "kombi          9127\n",
      "bus            4093\n",
      "cabrio         3061\n",
      "coupe          2537\n",
      "suv            1986\n",
      "andere          420\n",
      "Name: vehicle_type, dtype: int64 \n",
      "\n",
      "2000    3354\n",
      "2005    3015\n",
      "1999    3000\n",
      "2004    2737\n",
      "2003    2727\n",
      "        ... \n",
      "4500       1\n",
      "1931       1\n",
      "1939       1\n",
      "5911       1\n",
      "1952       1\n",
      "Name: registration_year, Length: 97, dtype: int64 \n",
      "\n",
      "manuell      36993\n",
      "automatik    10327\n",
      "Name: gearbox, dtype: int64 \n",
      "\n",
      "0        5500\n",
      "75       3171\n",
      "60       2195\n",
      "150      2046\n",
      "140      1884\n",
      "         ... \n",
      "455         1\n",
      "1016        1\n",
      "952         1\n",
      "696         1\n",
      "16312       1\n",
      "Name: power_ps, Length: 448, dtype: int64 \n",
      "\n",
      "golf          4024\n",
      "andere        3528\n",
      "3er           2761\n",
      "polo          1757\n",
      "corsa         1735\n",
      "              ... \n",
      "kalina           2\n",
      "200              1\n",
      "b_max            1\n",
      "rangerover       1\n",
      "i3               1\n",
      "Name: model, Length: 245, dtype: int64 \n",
      "\n",
      "150,000km    32424\n",
      "125,000km     5170\n",
      "100,000km     2169\n",
      "90,000km      1757\n",
      "80,000km      1436\n",
      "70,000km      1230\n",
      "60,000km      1164\n",
      "50,000km      1027\n",
      "5,000km        967\n",
      "40,000km       819\n",
      "30,000km       789\n",
      "20,000km       784\n",
      "10,000km       264\n",
      "Name: odometer, dtype: int64 \n",
      "\n",
      "0     5075\n",
      "3     5071\n",
      "6     4368\n",
      "5     4107\n",
      "4     4102\n",
      "7     3949\n",
      "10    3651\n",
      "12    3447\n",
      "9     3389\n",
      "11    3360\n",
      "1     3282\n",
      "8     3191\n",
      "2     3008\n",
      "Name: registration_month, dtype: int64 \n",
      "\n",
      "benzin     30107\n",
      "diesel     14567\n",
      "lpg          691\n",
      "cng           75\n",
      "hybrid        37\n",
      "andere        22\n",
      "elektro       19\n",
      "Name: fuel_type, dtype: int64 \n",
      "\n",
      "volkswagen        10687\n",
      "opel               5461\n",
      "bmw                5429\n",
      "mercedes_benz      4734\n",
      "audi               4283\n",
      "ford               3479\n",
      "renault            2404\n",
      "peugeot            1456\n",
      "fiat               1308\n",
      "seat                941\n",
      "skoda               786\n",
      "mazda               757\n",
      "nissan              754\n",
      "smart               701\n",
      "citroen             701\n",
      "toyota              617\n",
      "sonstige_autos      546\n",
      "hyundai             488\n",
      "volvo               457\n",
      "mini                424\n",
      "mitsubishi          406\n",
      "honda               399\n",
      "kia                 356\n",
      "alfa_romeo          329\n",
      "porsche             294\n",
      "suzuki              293\n",
      "chevrolet           283\n",
      "chrysler            181\n",
      "dacia               129\n",
      "daihatsu            128\n",
      "jeep                110\n",
      "subaru              109\n",
      "land_rover           99\n",
      "saab                 80\n",
      "daewoo               79\n",
      "trabant              78\n",
      "jaguar               77\n",
      "rover                69\n",
      "lancia               57\n",
      "lada                 31\n",
      "Name: brand, dtype: int64 \n",
      "\n",
      "nein    35232\n",
      "ja       4939\n",
      "Name: unrepaired_damage, dtype: int64 \n",
      "\n",
      "2016-04-03 00:00:00    1946\n",
      "2016-03-20 00:00:00    1893\n",
      "2016-03-21 00:00:00    1886\n",
      "2016-04-04 00:00:00    1844\n",
      "2016-03-12 00:00:00    1831\n",
      "                       ... \n",
      "2015-12-30 00:00:00       1\n",
      "2016-02-01 00:00:00       1\n",
      "2016-02-11 00:00:00       1\n",
      "2016-01-07 00:00:00       1\n",
      "2016-01-13 00:00:00       1\n",
      "Name: ad_created, Length: 76, dtype: int64 \n",
      "\n",
      "0    50000\n",
      "Name: num_photos, dtype: int64 \n",
      "\n",
      "10115    109\n",
      "65428    104\n",
      "66333     54\n",
      "45888     50\n",
      "44145     48\n",
      "        ... \n",
      "71576      1\n",
      "76776      1\n",
      "76872      1\n",
      "91233      1\n",
      "67585      1\n",
      "Name: postal_code, Length: 7014, dtype: int64 \n",
      "\n",
      "2016-04-07 06:17:27    8\n",
      "2016-04-06 06:17:24    7\n",
      "2016-04-07 03:16:17    7\n",
      "2016-04-06 21:17:51    7\n",
      "2016-04-06 19:16:38    6\n",
      "                      ..\n",
      "2016-04-06 18:18:39    1\n",
      "2016-04-06 18:18:08    1\n",
      "2016-03-08 09:15:20    1\n",
      "2016-04-05 20:15:45    1\n",
      "2016-04-01 18:23:53    1\n",
      "Name: last_seen, Length: 39481, dtype: int64 \n",
      "\n"
     ]
    }
   ],
   "source": [
    "col_to_explore = ['date_crawled',\n",
    "                  'name',\n",
    "                  'seller',\n",
    "                  'offer_type',\n",
    "                  'price',\n",
    "                  'abtest',                  \n",
    "                  'vehicle_type',\n",
    "                  'registration_year',\n",
    "                  'gearbox',\n",
    "                  'power_ps',\n",
    "                  'model',\n",
    "                  'odometer',\n",
    "                  'registration_month',\n",
    "                  'fuel_type',\n",
    "                  'brand',\n",
    "                  'unrepaired_damage',\n",
    "                  'ad_created',\n",
    "                  'num_photos',\n",
    "                  'postal_code',\n",
    "                  'last_seen']\n",
    "\n",
    "#loop through the above columns and look at the value counts of their unique contents\n",
    "#we're looking for the columns that contain mostly the same values\n",
    "for col in col_to_explore:\n",
    "    print(autos[col].value_counts(),'\\n')"
   ]
  },
  {
   "cell_type": "markdown",
   "id": "e90151e6",
   "metadata": {},
   "source": [
    "The main ones to look at are 'seller', 'offer_type', and 'num_photos'. The first two contain almost entirely the same value, while the third contains nothing but zeroes. So we can safely drop these columns from our data."
   ]
  },
  {
   "cell_type": "code",
   "execution_count": 7,
   "id": "8632b756",
   "metadata": {},
   "outputs": [],
   "source": [
    "autos = autos.drop(['seller','offer_type','num_photos'], axis=1)"
   ]
  },
  {
   "cell_type": "markdown",
   "id": "886518c9",
   "metadata": {},
   "source": [
    "Next we are going to look at columns that contain numeric data stored as text. We will clean them up and convert them to the appropriate data type. By looking at the above again, we can see that the 'price' and 'odometer' columns can be simplified by removing all the non-digit characters."
   ]
  },
  {
   "cell_type": "code",
   "execution_count": 8,
   "id": "db6a87e7",
   "metadata": {},
   "outputs": [
    {
     "name": "stderr",
     "output_type": "stream",
     "text": [
      "<ipython-input-8-194571f1379e>:1: FutureWarning: The default value of regex will change from True to False in a future version. In addition, single character regular expressions will*not* be treated as literal strings when regex=True.\n",
      "  autos['price'] = (autos['price']\n"
     ]
    },
    {
     "data": {
      "text/plain": [
       "0    5000\n",
       "1    8500\n",
       "2    8990\n",
       "3    4350\n",
       "4    1350\n",
       "Name: price, dtype: int32"
      ]
     },
     "execution_count": 8,
     "metadata": {},
     "output_type": "execute_result"
    }
   ],
   "source": [
    "autos['price'] = (autos['price']\n",
    "                  .str.replace('$','')\n",
    "                  .str.replace(',','')\n",
    "                  .astype(int))\n",
    "\n",
    "autos['price'].head()"
   ]
  },
  {
   "cell_type": "markdown",
   "id": "6df71fee",
   "metadata": {},
   "source": [
    "Now we will clean and convert the odometer column."
   ]
  },
  {
   "cell_type": "code",
   "execution_count": 9,
   "id": "ea615d3a",
   "metadata": {
    "scrolled": true
   },
   "outputs": [
    {
     "data": {
      "text/plain": [
       "0    150000\n",
       "1    150000\n",
       "2     70000\n",
       "3     70000\n",
       "4    150000\n",
       "Name: odometer_km, dtype: int32"
      ]
     },
     "execution_count": 9,
     "metadata": {},
     "output_type": "execute_result"
    }
   ],
   "source": [
    "autos['odometer'] = (autos['odometer']\n",
    "                  .str.replace('km','')\n",
    "                  .str.replace(',','')\n",
    "                  .astype(int))\n",
    "\n",
    "autos.rename({'odometer':'odometer_km'}, axis=1, inplace=True)\n",
    "autos['odometer_km'].head()"
   ]
  },
  {
   "cell_type": "markdown",
   "id": "93c02208",
   "metadata": {},
   "source": [
    "## Exploring Mileage and Price"
   ]
  },
  {
   "cell_type": "code",
   "execution_count": 10,
   "id": "a532cf41",
   "metadata": {
    "scrolled": true
   },
   "outputs": [
    {
     "name": "stdout",
     "output_type": "stream",
     "text": [
      "150000    32424\n",
      "125000     5170\n",
      "100000     2169\n",
      "90000      1757\n",
      "80000      1436\n",
      "70000      1230\n",
      "60000      1164\n",
      "50000      1027\n",
      "5000        967\n",
      "40000       819\n",
      "30000       789\n",
      "20000       784\n",
      "10000       264\n",
      "Name: odometer_km, dtype: int64\n"
     ]
    }
   ],
   "source": [
    "print(autos['odometer_km'].value_counts())"
   ]
  },
  {
   "cell_type": "markdown",
   "id": "ffeb4243",
   "metadata": {},
   "source": [
    "This looks pretty reasonable, as all of the values are nice, rounded numbers (probably due to a pre-set on the  website). It does look like this particular set of car listings has more cars with higher mileages though."
   ]
  },
  {
   "cell_type": "code",
   "execution_count": 11,
   "id": "560dca1f",
   "metadata": {},
   "outputs": [
    {
     "name": "stdout",
     "output_type": "stream",
     "text": [
      "(2357,)\n",
      "count    5.000000e+04\n",
      "mean     9.840044e+03\n",
      "std      4.811044e+05\n",
      "min      0.000000e+00\n",
      "25%      1.100000e+03\n",
      "50%      2.950000e+03\n",
      "75%      7.200000e+03\n",
      "max      1.000000e+08\n",
      "Name: price, dtype: float64\n"
     ]
    },
    {
     "data": {
      "text/plain": [
       "0       1421\n",
       "500      781\n",
       "1500     734\n",
       "2500     643\n",
       "1000     639\n",
       "1200     639\n",
       "600      531\n",
       "800      498\n",
       "3500     498\n",
       "2000     460\n",
       "999      434\n",
       "750      433\n",
       "900      420\n",
       "650      419\n",
       "850      410\n",
       "700      395\n",
       "4500     394\n",
       "300      384\n",
       "2200     382\n",
       "950      379\n",
       "Name: price, dtype: int64"
      ]
     },
     "execution_count": 11,
     "metadata": {},
     "output_type": "execute_result"
    }
   ],
   "source": [
    "print(autos['price'].unique().shape)\n",
    "print(autos['price'].describe())\n",
    "autos['price'].value_counts().head(20)"
   ]
  },
  {
   "cell_type": "markdown",
   "id": "5e6a66ec",
   "metadata": {},
   "source": [
    "This is a little odd, as the maximum value in the price column is over 1,000,000,000. Looking at the value_counts(), we can see that there are 1,400+ cars listed with a price of 0. Perhaps we can remove these from our data set. Also, we can see that most of the prices are also rounded to an even number. Perhaps this is humans' tendency to round up/down."
   ]
  },
  {
   "cell_type": "code",
   "execution_count": 12,
   "id": "16687c97",
   "metadata": {},
   "outputs": [
    {
     "data": {
      "text/plain": [
       "99999999    1\n",
       "27322222    1\n",
       "12345678    3\n",
       "11111111    2\n",
       "10000000    1\n",
       "3890000     1\n",
       "1300000     1\n",
       "1234566     1\n",
       "999999      2\n",
       "999990      1\n",
       "350000      1\n",
       "345000      1\n",
       "299000      1\n",
       "295000      1\n",
       "265000      1\n",
       "259000      1\n",
       "250000      1\n",
       "220000      1\n",
       "198000      1\n",
       "197000      1\n",
       "Name: price, dtype: int64"
      ]
     },
     "execution_count": 12,
     "metadata": {},
     "output_type": "execute_result"
    }
   ],
   "source": [
    "autos['price'].value_counts().sort_index(ascending=False).head(20)"
   ]
  },
  {
   "cell_type": "markdown",
   "id": "8ca7f498",
   "metadata": {},
   "source": [
    "We can see from the data above that we have a couple anomalies. First, the most expensive car is almost one hundred million dollars. The following several listings are also astronomically high numbers for cars listed on an auction website. There's also a considerable jump in price after 350k. We can probably remove these outliers, and only keep cars that are less than 350k. Because it is an auction website, it is plausible that starting bids can be as low as one dollar, so we will keep everything between 1-350k."
   ]
  },
  {
   "cell_type": "code",
   "execution_count": 13,
   "id": "c0e40d4f",
   "metadata": {},
   "outputs": [
    {
     "data": {
      "text/plain": [
       "count     48565.000000\n",
       "mean       5888.935591\n",
       "std        9059.854754\n",
       "min           1.000000\n",
       "25%        1200.000000\n",
       "50%        3000.000000\n",
       "75%        7490.000000\n",
       "max      350000.000000\n",
       "Name: price, dtype: float64"
      ]
     },
     "execution_count": 13,
     "metadata": {},
     "output_type": "execute_result"
    }
   ],
   "source": [
    "#This could vary, depending on what you deem is a realistic price!\n",
    "autos = autos[autos['price'].between(1,350000)]\n",
    "autos[\"price\"].describe()"
   ]
  },
  {
   "cell_type": "markdown",
   "id": "249ff5cb",
   "metadata": {},
   "source": [
    "## Exploring the date columns¶\n",
    "There are a number of columns with date information:\n",
    "\n",
    "* date_crawled\n",
    "* registration_month\n",
    "* registration_year\n",
    "* ad_created\n",
    "* last_seen\n",
    "\n",
    "These are a combination of dates that were crawled, and dates with meta-information from the crawler. The non-registration dates are stored as strings.\n",
    "\n",
    "We'll explore each of these columns to learn more about the listings."
   ]
  },
  {
   "cell_type": "code",
   "execution_count": 14,
   "id": "04c90792",
   "metadata": {},
   "outputs": [
    {
     "data": {
      "text/html": [
       "<div>\n",
       "<style scoped>\n",
       "    .dataframe tbody tr th:only-of-type {\n",
       "        vertical-align: middle;\n",
       "    }\n",
       "\n",
       "    .dataframe tbody tr th {\n",
       "        vertical-align: top;\n",
       "    }\n",
       "\n",
       "    .dataframe thead th {\n",
       "        text-align: right;\n",
       "    }\n",
       "</style>\n",
       "<table border=\"1\" class=\"dataframe\">\n",
       "  <thead>\n",
       "    <tr style=\"text-align: right;\">\n",
       "      <th></th>\n",
       "      <th>date_crawled</th>\n",
       "      <th>ad_created</th>\n",
       "      <th>last_seen</th>\n",
       "    </tr>\n",
       "  </thead>\n",
       "  <tbody>\n",
       "    <tr>\n",
       "      <th>0</th>\n",
       "      <td>2016-03-26 17:47:46</td>\n",
       "      <td>2016-03-26 00:00:00</td>\n",
       "      <td>2016-04-06 06:45:54</td>\n",
       "    </tr>\n",
       "    <tr>\n",
       "      <th>1</th>\n",
       "      <td>2016-04-04 13:38:56</td>\n",
       "      <td>2016-04-04 00:00:00</td>\n",
       "      <td>2016-04-06 14:45:08</td>\n",
       "    </tr>\n",
       "    <tr>\n",
       "      <th>2</th>\n",
       "      <td>2016-03-26 18:57:24</td>\n",
       "      <td>2016-03-26 00:00:00</td>\n",
       "      <td>2016-04-06 20:15:37</td>\n",
       "    </tr>\n",
       "    <tr>\n",
       "      <th>3</th>\n",
       "      <td>2016-03-12 16:58:10</td>\n",
       "      <td>2016-03-12 00:00:00</td>\n",
       "      <td>2016-03-15 03:16:28</td>\n",
       "    </tr>\n",
       "    <tr>\n",
       "      <th>4</th>\n",
       "      <td>2016-04-01 14:38:50</td>\n",
       "      <td>2016-04-01 00:00:00</td>\n",
       "      <td>2016-04-01 14:38:50</td>\n",
       "    </tr>\n",
       "  </tbody>\n",
       "</table>\n",
       "</div>"
      ],
      "text/plain": [
       "          date_crawled           ad_created            last_seen\n",
       "0  2016-03-26 17:47:46  2016-03-26 00:00:00  2016-04-06 06:45:54\n",
       "1  2016-04-04 13:38:56  2016-04-04 00:00:00  2016-04-06 14:45:08\n",
       "2  2016-03-26 18:57:24  2016-03-26 00:00:00  2016-04-06 20:15:37\n",
       "3  2016-03-12 16:58:10  2016-03-12 00:00:00  2016-03-15 03:16:28\n",
       "4  2016-04-01 14:38:50  2016-04-01 00:00:00  2016-04-01 14:38:50"
      ]
     },
     "execution_count": 14,
     "metadata": {},
     "output_type": "execute_result"
    }
   ],
   "source": [
    "autos[['date_crawled', 'ad_created', 'last_seen']].head()"
   ]
  },
  {
   "cell_type": "code",
   "execution_count": 15,
   "id": "0a395dff",
   "metadata": {
    "scrolled": true
   },
   "outputs": [
    {
     "name": "stdout",
     "output_type": "stream",
     "text": [
      "count                   48565\n",
      "unique                  46882\n",
      "top       2016-04-04 16:40:33\n",
      "freq                        3\n",
      "Name: date_crawled, dtype: object \n",
      "\n",
      "Percentages by date - oldest to newest:\n",
      "(2016-03-05    0.025327\n",
      "2016-03-06    0.014043\n",
      "2016-03-07    0.036014\n",
      "2016-03-08    0.033296\n",
      "2016-03-09    0.033090\n",
      "2016-03-10    0.032184\n",
      "2016-03-11    0.032575\n",
      "2016-03-12    0.036920\n",
      "2016-03-13    0.015670\n",
      "2016-03-14    0.036549\n",
      "2016-03-15    0.034284\n",
      "2016-03-16    0.029610\n",
      "2016-03-17    0.031628\n",
      "2016-03-18    0.012911\n",
      "2016-03-19    0.034778\n",
      "2016-03-20    0.037887\n",
      "2016-03-21    0.037373\n",
      "2016-03-22    0.032987\n",
      "2016-03-23    0.032225\n",
      "2016-03-24    0.029342\n",
      "2016-03-25    0.031607\n",
      "2016-03-26    0.032204\n",
      "2016-03-27    0.031092\n",
      "2016-03-28    0.034860\n",
      "2016-03-29    0.034099\n",
      "2016-03-30    0.033687\n",
      "2016-03-31    0.031834\n",
      "2016-04-01    0.033687\n",
      "2016-04-02    0.035478\n",
      "2016-04-03    0.038608\n",
      "2016-04-04    0.036487\n",
      "2016-04-05    0.013096\n",
      "2016-04-06    0.003171\n",
      "2016-04-07    0.001400\n",
      "Name: date_crawled, dtype: float64, '\\n')\n",
      "Percentages by size - largest to smallest:\n",
      "2016-04-03    0.038608\n",
      "2016-03-20    0.037887\n",
      "2016-03-21    0.037373\n",
      "2016-03-12    0.036920\n",
      "2016-03-14    0.036549\n",
      "2016-04-04    0.036487\n",
      "2016-03-07    0.036014\n",
      "2016-04-02    0.035478\n",
      "2016-03-28    0.034860\n",
      "2016-03-19    0.034778\n",
      "2016-03-15    0.034284\n",
      "2016-03-29    0.034099\n",
      "2016-04-01    0.033687\n",
      "2016-03-30    0.033687\n",
      "2016-03-08    0.033296\n",
      "2016-03-09    0.033090\n",
      "2016-03-22    0.032987\n",
      "2016-03-11    0.032575\n",
      "2016-03-23    0.032225\n",
      "2016-03-26    0.032204\n",
      "2016-03-10    0.032184\n",
      "2016-03-31    0.031834\n",
      "2016-03-17    0.031628\n",
      "2016-03-25    0.031607\n",
      "2016-03-27    0.031092\n",
      "2016-03-16    0.029610\n",
      "2016-03-24    0.029342\n",
      "2016-03-05    0.025327\n",
      "2016-03-13    0.015670\n",
      "2016-03-06    0.014043\n",
      "2016-04-05    0.013096\n",
      "2016-03-18    0.012911\n",
      "2016-04-06    0.003171\n",
      "2016-04-07    0.001400\n",
      "Name: date_crawled, dtype: float64\n"
     ]
    }
   ],
   "source": [
    "print(autos['date_crawled'].describe(),'\\n')\n",
    "\n",
    "#sorts them by date (oldest to newest)\n",
    "print('Percentages by date - oldest to newest:')\n",
    "print((autos['date_crawled']\n",
    "       .str[:10]\n",
    "       .value_counts(normalize=True, dropna=False)\n",
    "       .sort_index(),'\\n'))\n",
    "\n",
    "#sorts them based on distribution (largest to smallest)\n",
    "print('Percentages by size - largest to smallest:')\n",
    "print((autos['date_crawled']\n",
    "       .str[:10]\n",
    "       .value_counts(normalize=True, dropna=False)\n",
    "       .sort_values(ascending=False)))"
   ]
  },
  {
   "cell_type": "markdown",
   "id": "d020b182",
   "metadata": {},
   "source": [
    "It seems like the site was crawled daily, as the distribution of listings is fairly uniform. "
   ]
  },
  {
   "cell_type": "code",
   "execution_count": 16,
   "id": "d697afb6",
   "metadata": {
    "scrolled": true
   },
   "outputs": [
    {
     "name": "stdout",
     "output_type": "stream",
     "text": [
      "2016-03-05    0.001071\n",
      "2016-03-06    0.004324\n",
      "2016-03-07    0.005395\n",
      "2016-03-08    0.007413\n",
      "2016-03-09    0.009595\n",
      "2016-03-10    0.010666\n",
      "2016-03-11    0.012375\n",
      "2016-03-12    0.023783\n",
      "2016-03-13    0.008895\n",
      "2016-03-14    0.012602\n",
      "2016-03-15    0.015876\n",
      "2016-03-16    0.016452\n",
      "2016-03-17    0.028086\n",
      "2016-03-18    0.007351\n",
      "2016-03-19    0.015834\n",
      "2016-03-20    0.020653\n",
      "2016-03-21    0.020632\n",
      "2016-03-22    0.021373\n",
      "2016-03-23    0.018532\n",
      "2016-03-24    0.019767\n",
      "2016-03-25    0.019211\n",
      "2016-03-26    0.016802\n",
      "2016-03-27    0.015649\n",
      "2016-03-28    0.020859\n",
      "2016-03-29    0.022341\n",
      "2016-03-30    0.024771\n",
      "2016-03-31    0.023783\n",
      "2016-04-01    0.022794\n",
      "2016-04-02    0.024915\n",
      "2016-04-03    0.025203\n",
      "2016-04-04    0.024483\n",
      "2016-04-05    0.124761\n",
      "2016-04-06    0.221806\n",
      "2016-04-07    0.131947\n",
      "Name: last_seen, dtype: float64\n"
     ]
    }
   ],
   "source": [
    "print((autos['last_seen']\n",
    "      .str[:10]\n",
    "      .value_counts(normalize=True, dropna=False)\n",
    "      .sort_index()))"
   ]
  },
  {
   "cell_type": "markdown",
   "id": "79e4dfa2",
   "metadata": {},
   "source": [
    "The crawler recorded the date it last saw any listing, which allows us to determine on what day a listing was removed, presumably because the car was sold.\n",
    "\n",
    "The last three days contain a disproportionate amount of 'last seen' values. Given that these are 6-10x the values from the previous days, it's unlikely that there was a massive spike in sales, and more likely that these values are to do with the crawling period ending and don't indicate car sales."
   ]
  },
  {
   "cell_type": "code",
   "execution_count": 17,
   "id": "c3445789",
   "metadata": {
    "scrolled": true
   },
   "outputs": [
    {
     "name": "stdout",
     "output_type": "stream",
     "text": [
      "2015-06-11    0.000021\n",
      "2015-08-10    0.000021\n",
      "2015-09-09    0.000021\n",
      "2015-11-10    0.000021\n",
      "2015-12-05    0.000021\n",
      "                ...   \n",
      "2016-04-03    0.038855\n",
      "2016-04-04    0.036858\n",
      "2016-04-05    0.011819\n",
      "2016-04-06    0.003253\n",
      "2016-04-07    0.001256\n",
      "Name: ad_created, Length: 76, dtype: float64\n",
      "(76,)\n"
     ]
    }
   ],
   "source": [
    "print((autos['ad_created']\n",
    "      .str[:10]\n",
    "      .value_counts(normalize=True, dropna=False)\n",
    "      .sort_index()))\n",
    "print(autos['ad_created'].unique().shape)"
   ]
  },
  {
   "cell_type": "markdown",
   "id": "8d4e4d24",
   "metadata": {},
   "source": [
    "Most of the ads were created within 1-2 months of the listing, but a few outliers were created as old as 9 months before being listed."
   ]
  },
  {
   "cell_type": "code",
   "execution_count": 18,
   "id": "8b7794b8",
   "metadata": {},
   "outputs": [
    {
     "name": "stdout",
     "output_type": "stream",
     "text": [
      "count    48565.000000\n",
      "mean      2004.755421\n",
      "std         88.643887\n",
      "min       1000.000000\n",
      "25%       1999.000000\n",
      "50%       2004.000000\n",
      "75%       2008.000000\n",
      "max       9999.000000\n",
      "Name: registration_year, dtype: float64\n"
     ]
    }
   ],
   "source": [
    "#shows us what the registration year data looks like\n",
    "print(autos['registration_year'].describe())"
   ]
  },
  {
   "cell_type": "markdown",
   "id": "18152e7b",
   "metadata": {},
   "source": [
    "This is a strange one because the minimum and maximum years show impossible dates for the cars to be registered. The minimum is 1000, which is clearly before cars were even invented. The max shows 9999, which is 7000+ years away. We can examine this a bit further, and try to only keep the cars that were registered within a more normal timeframe."
   ]
  },
  {
   "cell_type": "code",
   "execution_count": 19,
   "id": "66607da3",
   "metadata": {},
   "outputs": [
    {
     "name": "stdout",
     "output_type": "stream",
     "text": [
      "1000    0.000021\n",
      "1001    0.000021\n",
      "1111    0.000021\n",
      "1800    0.000041\n",
      "1910    0.000103\n",
      "          ...   \n",
      "5911    0.000021\n",
      "6200    0.000021\n",
      "8888    0.000021\n",
      "9000    0.000021\n",
      "9999    0.000062\n",
      "Name: registration_year, Length: 95, dtype: float64\n"
     ]
    }
   ],
   "source": [
    "print(autos['registration_year']\n",
    "     .value_counts(normalize=True, dropna=False)\n",
    "     .sort_index())"
   ]
  },
  {
   "cell_type": "markdown",
   "id": "cc7b4d8e",
   "metadata": {},
   "source": [
    "We can try to find out the number of cars registered between 1900-2016 and then divide that by the total number of cars, which would give us a percentage of cars registered outside of a reasonable timeframe."
   ]
  },
  {
   "cell_type": "code",
   "execution_count": 20,
   "id": "0451bbbb",
   "metadata": {},
   "outputs": [
    {
     "name": "stdout",
     "output_type": "stream",
     "text": [
      "0.038793369710697 not in range\n",
      "0.961206630289303 in range\n"
     ]
    }
   ],
   "source": [
    "#the ~ negates the argument. So it finds the number that is between 1900-2016, and then NOTs it\n",
    "print((~autos[\"registration_year\"].between(1900,2016)).sum() / autos.shape[0],'not in range')\n",
    "print((autos[\"registration_year\"].between(1900,2016)).sum() / autos.shape[0],'in range')"
   ]
  },
  {
   "cell_type": "markdown",
   "id": "02c05760",
   "metadata": {},
   "source": [
    "So less than 4% of our data falls outside this reasonable time frame, so we can safely remove them."
   ]
  },
  {
   "cell_type": "code",
   "execution_count": 21,
   "id": "0d51bdbd",
   "metadata": {},
   "outputs": [
    {
     "name": "stdout",
     "output_type": "stream",
     "text": [
      "2016    0.026135\n",
      "2015    0.008397\n",
      "2014    0.014203\n",
      "2013    0.017202\n",
      "2012    0.028063\n",
      "2011    0.034768\n",
      "2010    0.034040\n",
      "2009    0.044665\n",
      "2008    0.047450\n",
      "2007    0.048778\n",
      "Name: registration_year, dtype: float64\n"
     ]
    }
   ],
   "source": [
    "#removes the violating rows using boolean masks via pandas methods\n",
    "autos = autos[autos['registration_year'].between(1900,2016)] #'between()' is the boolean mask\n",
    "\n",
    "#sorts by year, most recent first\n",
    "print((autos['registration_year']\n",
    "       .value_counts(normalize=True, dropna=False)\n",
    "       .sort_index(ascending=False)\n",
    "       .head(10)))"
   ]
  },
  {
   "cell_type": "code",
   "execution_count": 22,
   "id": "a020aada",
   "metadata": {},
   "outputs": [
    {
     "name": "stdout",
     "output_type": "stream",
     "text": [
      "2000    0.067608\n",
      "2005    0.062895\n",
      "1999    0.062060\n",
      "2004    0.057904\n",
      "2003    0.057818\n",
      "2006    0.057197\n",
      "2001    0.056468\n",
      "2002    0.053255\n",
      "1998    0.050620\n",
      "2007    0.048778\n",
      "Name: registration_year, dtype: float64\n"
     ]
    }
   ],
   "source": [
    "#sorts by perfecntage, largest first\n",
    "print(autos['registration_year']\n",
    "     .value_counts(normalize=True, dropna=False)\n",
    "     .sort_values(ascending=False)\n",
    "     .head(10))"
   ]
  },
  {
   "cell_type": "markdown",
   "id": "15cbc9fb",
   "metadata": {},
   "source": [
    "As we can now see above, these are fairly uniform distributions for the different registration years. Most of the vehicles in our data set were registered in the past ~20 years.\n",
    "\n",
    "\n",
    "## Exploring Price by Brand\n",
    "\n",
    "Now we will explore the brand column a little bit."
   ]
  },
  {
   "cell_type": "code",
   "execution_count": 23,
   "id": "bb843a43",
   "metadata": {},
   "outputs": [
    {
     "data": {
      "text/plain": [
       "volkswagen       0.211264\n",
       "bmw              0.110045\n",
       "opel             0.107581\n",
       "mercedes_benz    0.096463\n",
       "audi             0.086566\n",
       "ford             0.069900\n",
       "renault          0.047150\n",
       "peugeot          0.029841\n",
       "fiat             0.025642\n",
       "seat             0.018273\n",
       "Name: brand, dtype: float64"
      ]
     },
     "execution_count": 23,
     "metadata": {},
     "output_type": "execute_result"
    }
   ],
   "source": [
    "autos[\"brand\"].value_counts(normalize=True).head(10)"
   ]
  },
  {
   "cell_type": "markdown",
   "id": "aafdc2e7",
   "metadata": {},
   "source": [
    "German manufacturers represent four out of the top five brands, almost 50% of the overall listings. Volkswagen is by far the most popular brand, with approximately double the cars for sale of the next two brands combined.\n",
    "\n",
    "There are lots of brands that don't have a significant percentage of listings, so we will limit our analysis to brands representing more than 5% of total listings."
   ]
  },
  {
   "cell_type": "code",
   "execution_count": 24,
   "id": "01397067",
   "metadata": {},
   "outputs": [
    {
     "name": "stdout",
     "output_type": "stream",
     "text": [
      "Index(['volkswagen', 'bmw', 'opel', 'mercedes_benz', 'audi', 'ford'], dtype='object')\n"
     ]
    }
   ],
   "source": [
    "brand_counts = autos[\"brand\"].value_counts(normalize=True)\n",
    "common_brands = brand_counts[brand_counts > .05].index\n",
    "print(common_brands)"
   ]
  },
  {
   "cell_type": "code",
   "execution_count": 25,
   "id": "b4e1ea86",
   "metadata": {},
   "outputs": [
    {
     "name": "stdout",
     "output_type": "stream",
     "text": [
      "Most Common Brands Mean Price\n"
     ]
    },
    {
     "ename": "NameError",
     "evalue": "name 'brand_mean_price' is not defined",
     "output_type": "error",
     "traceback": [
      "\u001b[1;31m---------------------------------------------------------------------------\u001b[0m",
      "\u001b[1;31mNameError\u001b[0m                                 Traceback (most recent call last)",
      "\u001b[1;32m<ipython-input-25-11f985b767ae>\u001b[0m in \u001b[0;36m<module>\u001b[1;34m\u001b[0m\n\u001b[0;32m      7\u001b[0m     \u001b[0mmean_price\u001b[0m \u001b[1;33m=\u001b[0m \u001b[0mbrand_only\u001b[0m\u001b[1;33m[\u001b[0m\u001b[1;34m\"price\"\u001b[0m\u001b[1;33m]\u001b[0m\u001b[1;33m.\u001b[0m\u001b[0mmean\u001b[0m\u001b[1;33m(\u001b[0m\u001b[1;33m)\u001b[0m\u001b[1;33m\u001b[0m\u001b[1;33m\u001b[0m\u001b[0m\n\u001b[0;32m      8\u001b[0m     \u001b[0mbrand_mean_prices\u001b[0m\u001b[1;33m[\u001b[0m\u001b[0mbrand\u001b[0m\u001b[1;33m]\u001b[0m \u001b[1;33m=\u001b[0m \u001b[0mint\u001b[0m\u001b[1;33m(\u001b[0m\u001b[0mmean_price\u001b[0m\u001b[1;33m)\u001b[0m\u001b[1;33m\u001b[0m\u001b[1;33m\u001b[0m\u001b[0m\n\u001b[1;32m----> 9\u001b[1;33m     \u001b[0mprint\u001b[0m\u001b[1;33m(\u001b[0m\u001b[1;34m'{:>14}: {:<}'\u001b[0m\u001b[1;33m.\u001b[0m\u001b[0mformat\u001b[0m\u001b[1;33m(\u001b[0m\u001b[0mbrand\u001b[0m\u001b[1;33m,\u001b[0m\u001b[0mbrand_mean_price\u001b[0m\u001b[1;33m[\u001b[0m\u001b[0mbrand\u001b[0m\u001b[1;33m]\u001b[0m\u001b[1;33m)\u001b[0m\u001b[1;33m)\u001b[0m\u001b[1;33m\u001b[0m\u001b[1;33m\u001b[0m\u001b[0m\n\u001b[0m",
      "\u001b[1;31mNameError\u001b[0m: name 'brand_mean_price' is not defined"
     ]
    }
   ],
   "source": [
    "brand_mean_prices = {}\n",
    "print('{:^}'.format('Most Common Brands Mean Price'))\n",
    "\n",
    "for brand in common_brands:\n",
    "    #goes through ALL the autos data and checks to see the brands match\n",
    "    brand_only = autos[autos[\"brand\"] == brand]\n",
    "    mean_price = brand_only[\"price\"].mean()\n",
    "    brand_mean_prices[brand] = int(mean_price)\n",
    "    print('{:>14}: {:<}'.format(brand,brand_mean_price[brand]))"
   ]
  },
  {
   "cell_type": "markdown",
   "id": "69431561",
   "metadata": {},
   "source": [
    "Of the top 5 brands, there is a fairly distinct price gap. Opel and Ford are the most affordable (i.e. cheapest) to buy, while BMW, Mercedes Benz, and Audi are the most expensive. The most commonly listed brand, Volkswagen, is right in the middle, which might have something to do with its popularity. It's the best of both worlds it seems."
   ]
  },
  {
   "cell_type": "code",
   "execution_count": null,
   "id": "76608038",
   "metadata": {},
   "outputs": [],
   "source": [
    "brand_mean_mileage = {}\n",
    "print('{:^}'.format('Most Common Brands Mean Mileage'))\n",
    "\n",
    "for brand in common_brands:\n",
    "    brand_only = autos[autos[\"brand\"] == brand]\n",
    "    mean_mileage = brand_only[\"odometer_km\"].mean()\n",
    "    brand_mean_mileage[brand] = int(mean_mileage)\n",
    "    print('{:>14}: {:<}'.format(brand,brand_mean_mileage[brand]))\n"
   ]
  },
  {
   "cell_type": "markdown",
   "id": "0ade7915",
   "metadata": {},
   "source": [
    "We can see that all six of the top brands have  very similar mean mileage counts, with the lowest being 124k, and the highest being 132k."
   ]
  },
  {
   "cell_type": "code",
   "execution_count": null,
   "id": "4641f53a",
   "metadata": {},
   "outputs": [],
   "source": [
    "bmp_series = pd.Series(brand_mean_prices)\n",
    "bmm_series = pd.Series(brand_mean_mileage)\n",
    "pd.DataFrame(bmp_series, columns=['mean_price'])"
   ]
  },
  {
   "cell_type": "code",
   "execution_count": null,
   "id": "7b3d9dee",
   "metadata": {},
   "outputs": [],
   "source": [
    "#this takes our series and sorts them for improved readability\n",
    "mean_mileage = pd.Series(bmm_series).sort_values(ascending=False)\n",
    "mean_prices = pd.Series(bmp_series).sort_values(ascending=False)\n",
    "\n",
    "brand_info = pd.DataFrame(mean_mileage,columns=['mean_mileage'])\n",
    "brand_info"
   ]
  },
  {
   "cell_type": "code",
   "execution_count": null,
   "id": "4219ddc0",
   "metadata": {},
   "outputs": [],
   "source": [
    "brand_info['mean_price'] = mean_prices\n",
    "brand_info"
   ]
  },
  {
   "cell_type": "markdown",
   "id": "9cbe96d9",
   "metadata": {},
   "source": [
    "The range of car mileages does not vary as much as the prices do by brand, instead all falling within 10% for the top brands. There is a slight trend to the more expensive vehicles having higher mileage, with the less expensive vehicles having lower mileage."
   ]
  },
  {
   "cell_type": "markdown",
   "id": "9ee5cbaf",
   "metadata": {},
   "source": [
    "## Extra / Miscellaneous Testing\n",
    "Here I will try to further clean up the data to practice my programming skills. First, I will try to translate as many German words in our dataset as possible, starting with the gearbox column.\n",
    "### Translating German words"
   ]
  },
  {
   "cell_type": "code",
   "execution_count": null,
   "id": "479dbed5",
   "metadata": {},
   "outputs": [],
   "source": [
    "autos"
   ]
  },
  {
   "cell_type": "code",
   "execution_count": null,
   "id": "167637bb",
   "metadata": {},
   "outputs": [],
   "source": [
    "german_list = ['vehicle_type', 'gearbox', 'fuel_type', 'unrepaired_damage']\n",
    "for p in german_list:\n",
    "    print(str(p), '\\n', pd.unique(autos[p]), '\\n')"
   ]
  },
  {
   "cell_type": "code",
   "execution_count": null,
   "id": "8b703e9c",
   "metadata": {},
   "outputs": [],
   "source": [
    "autos['vehicle_type'] = (autos['vehicle_type']\n",
    "                         .map({'kleinwagen' : 'compact',\n",
    "                               'andere': 'other',\n",
    "                               'kombi': 'station wagon',\n",
    "                               'cabrio': 'convertible'},\n",
    "                              na_action='ignore')\n",
    "                       )\n",
    "# replace NaN to string 'no information':\n",
    "autos['vehicle_type'] = autos['vehicle_type'].fillna('not listed')\n",
    "\n",
    "autos['gearbox'] = (autos['gearbox']\n",
    "                    .map({'manuell': 'manual',\n",
    "                          'automatik': 'automatic'},\n",
    "                         na_action='ignore')\n",
    "                   )\n",
    "# replace NaN to string 'no information':\n",
    "autos['gearbox'] = autos['gearbox'].fillna('not listed')\n",
    "\n",
    "autos['fuel_type'] = (autos['fuel_type']\n",
    "                      .map({'benzin': 'petrol',\n",
    "                            'elektro' : 'electro',\n",
    "                            'andere': 'other'},\n",
    "                         na_action='ignore')\n",
    "                   )\n",
    "# replace NaN to string 'no information':\n",
    "autos['fuel_type'] = autos['fuel_type'].fillna('not listed')\n",
    "\n",
    "autos['unrepaired_damage'] = (autos['unrepaired_damage']\n",
    "                              .map({'nein': 'no',\n",
    "                                    'ja': 'yes'})\n",
    "                           )\n",
    "# replace NaN to string 'no information':\n",
    "autos['unrepaired_damage'] = autos['unrepaired_damage'].fillna('not listed')"
   ]
  },
  {
   "cell_type": "code",
   "execution_count": null,
   "id": "a32dde38",
   "metadata": {},
   "outputs": [],
   "source": [
    "autos"
   ]
  },
  {
   "cell_type": "code",
   "execution_count": null,
   "id": "68d6908f",
   "metadata": {},
   "outputs": [],
   "source": [
    "#to verify the words have been translated, run this again\n",
    "german_list = ['vehicle_type', 'gearbox', 'fuel_type', 'unrepaired_damage']\n",
    "for p in german_list:\n",
    "    print(str(p), '\\n', pd.unique(autos[p]), '\\n', '\\n')"
   ]
  },
  {
   "cell_type": "markdown",
   "id": "9e0499bb",
   "metadata": {},
   "source": [
    "### Converting Dates to Numeric Values\n",
    "Now I will try to clean up the date format a bit. I will convert it from a string \"2016-03-12\" to an int 20160312."
   ]
  },
  {
   "cell_type": "code",
   "execution_count": null,
   "id": "d80125ac",
   "metadata": {},
   "outputs": [],
   "source": [
    "autos[[\"date_crawled\",\"ad_created\",\"last_seen\"]][0:5]"
   ]
  },
  {
   "cell_type": "code",
   "execution_count": null,
   "id": "3cd90352",
   "metadata": {},
   "outputs": [],
   "source": [
    "#splites the date_crawled column into two strings: date and time\n",
    "autos['date_crawled: time'] = autos['date_crawled'].str.split().str[1]\n",
    "autos['date_crawled'] = (autos['date_crawled']\n",
    "                         .str.replace('-', '')\n",
    "                         .str.split().str[0].astype(int)\n",
    "                        )\n",
    "\n",
    "autos['ad_created: time'] = autos['ad_created'].str.split().str[1]\n",
    "# because there is no data in \" ad_created: time\", we will drop this column.\n",
    "autos.drop('ad_created: time', inplace=True, axis=1)\n",
    "\n",
    "autos['ad_created'] = (autos['ad_created'].str.replace('-', '')\n",
    "                       .str.split().str[0].astype(int)\n",
    "                      )\n",
    "\n",
    "autos['last_seen: time'] = autos['last_seen'].str.split().str[1]\n",
    "autos['last_seen'] = (autos['last_seen']\n",
    "                      .str.replace('-', '')\n",
    "                      .str.split().str[0].astype(int)\n",
    "                     )\n",
    "autos[[\"date_crawled\",\"ad_created\",\"last_seen\"]][0:5]"
   ]
  },
  {
   "cell_type": "markdown",
   "id": "ffbb6ebd",
   "metadata": {},
   "source": [
    "### Most common model per brand?"
   ]
  },
  {
   "cell_type": "code",
   "execution_count": null,
   "id": "f9aae28a",
   "metadata": {},
   "outputs": [],
   "source": [
    "autos['brand'].value_counts().head(10)"
   ]
  },
  {
   "cell_type": "code",
   "execution_count": null,
   "id": "bab3b3bf",
   "metadata": {},
   "outputs": [],
   "source": [
    "common_model = {}\n",
    "\n",
    "for c in autos['brand'].value_counts().index:\n",
    "    brands = autos[autos['brand'] == c]\n",
    "    desc = brands['name'].describe()\n",
    "    common_model[c] = desc[2]\n",
    "    \n",
    "print('Most common model for each brand:', '\\n')\n",
    "for key in common_model:\n",
    "    print('{:>14}: {:<}'.format(key,common_model[key]))"
   ]
  },
  {
   "cell_type": "markdown",
   "id": "109d5673",
   "metadata": {},
   "source": [
    "### Prices vs. Mileage - Is There a Connection?"
   ]
  },
  {
   "cell_type": "code",
   "execution_count": null,
   "id": "86576259",
   "metadata": {
    "scrolled": true
   },
   "outputs": [],
   "source": [
    "autos['odometer_km'].value_counts().sort_index(ascending=False)"
   ]
  },
  {
   "cell_type": "markdown",
   "id": "a7bd0399",
   "metadata": {},
   "source": [
    "Below, we will find the mean odometer value for each brand."
   ]
  },
  {
   "cell_type": "code",
   "execution_count": null,
   "id": "6839cdae",
   "metadata": {
    "scrolled": true
   },
   "outputs": [],
   "source": [
    "all_brands = autos['brand'].value_counts().index\n",
    "brand_mean_odo = {}\n",
    "print('{:>14}: {:>6}'.format('Brand','Mean_Odo'))\n",
    "\n",
    "for brand in all_brands:\n",
    "    brand_only = autos[autos['brand'] == brand]\n",
    "    mean_odo = brand_only['odometer_km'].mean()\n",
    "    brand_mean_odo[brand] = int(mean_odo)\n",
    "    print('{:>14}: {:>6d}'.format(brand,brand_mean_odo[brand]))"
   ]
  },
  {
   "cell_type": "markdown",
   "id": "3082ba1c",
   "metadata": {},
   "source": [
    "Now we will do the same, but for the price of each brand."
   ]
  },
  {
   "cell_type": "code",
   "execution_count": null,
   "id": "af749398",
   "metadata": {
    "scrolled": true
   },
   "outputs": [],
   "source": [
    "brand_mean_price = {}\n",
    "print('{:>14}: {:>6}'.format('Brand','Mean_Price'))\n",
    "\n",
    "for brand in all_brands:\n",
    "    brand_only = autos[autos['brand'] == brand]\n",
    "    mean_price = brand_only['price'].mean()\n",
    "    brand_mean_price[brand] = int(mean_price)\n",
    "    print('{:>14}: {:>6d}'.format(brand,brand_mean_price[brand]))"
   ]
  },
  {
   "cell_type": "markdown",
   "id": "ce253ed2",
   "metadata": {},
   "source": [
    "Now we will create a new DataFrame for each brand_mean_odo and brand_mean_price, and combine the two in one. First we need to create a Series using the pd.Series constructor."
   ]
  },
  {
   "cell_type": "code",
   "execution_count": null,
   "id": "5b5189a6",
   "metadata": {
    "scrolled": true
   },
   "outputs": [],
   "source": [
    "odo_series = pd.Series(brand_mean_odo).sort_values(ascending=False)\n",
    "price_series = pd.Series(brand_mean_price).sort_values(ascending=False)"
   ]
  },
  {
   "cell_type": "markdown",
   "id": "8502e459",
   "metadata": {},
   "source": [
    "Now we will take both series and combine them into a new DataFrame using the pd.DataFrame constructor."
   ]
  },
  {
   "cell_type": "code",
   "execution_count": null,
   "id": "cd6ded09",
   "metadata": {},
   "outputs": [],
   "source": [
    "odo_vs_price = pd.DataFrame(odo_series, columns=['mean_odo']) #sorts by odometer_km highest->lowest\n",
    "odo_vs_price['mean_price'] = price_series\n",
    "\n",
    "price_vs_odo = pd.DataFrame(price_series, columns=['mean_price']) #sorts by price highest->lowest\n",
    "price_vs_odo['mean_odo'] = odo_series"
   ]
  },
  {
   "cell_type": "code",
   "execution_count": null,
   "id": "c273e8cf",
   "metadata": {},
   "outputs": [],
   "source": [
    "# function that print first and last 4 rows:\n",
    "def head_tail(df, x):\n",
    "    return df.head(x).append(df.tail(x))"
   ]
  },
  {
   "cell_type": "code",
   "execution_count": null,
   "id": "b80bef2f",
   "metadata": {},
   "outputs": [],
   "source": [
    "print('First 8 and last 8, sorted by odometer (highest -> lowest)')\n",
    "print(head_tail(odo_vs_price, 8))"
   ]
  },
  {
   "cell_type": "code",
   "execution_count": null,
   "id": "9b8b71b1",
   "metadata": {},
   "outputs": [],
   "source": [
    "print('First 8 and last 8, sorted by price (highest -> lowest)')\n",
    "print(head_tail(price_vs_odo, 8))"
   ]
  },
  {
   "cell_type": "markdown",
   "id": "59616e3c",
   "metadata": {},
   "source": [
    "We can see that Trabant has the lowest mileage for the lowest price. However, Daihatsu, Rover, and Daewoo all have lower prices than Trabant, while having more than double the mileage. Porsche is (obviously) the most expensive in our data (after we removed the outlier prices of course). Of the cars that cost over 10,000, Jeep has the highest mileage. Lada is the next best in terms of low mileage/price."
   ]
  },
  {
   "cell_type": "markdown",
   "id": "b570f590",
   "metadata": {},
   "source": [
    "### Damaged vs Undamaged - How is price affected?"
   ]
  },
  {
   "cell_type": "code",
   "execution_count": null,
   "id": "84a1fd6c",
   "metadata": {},
   "outputs": [],
   "source": [
    "#mean price of all the cars in dataset\n",
    "mean_price_all = autos['price'].mean()\n",
    "\n",
    "#mean price of cars that have damage\n",
    "damaged = autos[autos['unrepaired_damage'] == 'yes']\n",
    "mean_price_damaged = damaged['price'].mean()\n",
    "\n",
    "#mean price of cars without any damage\n",
    "undamaged = autos[autos['unrepaired_damage'] == 'no']\n",
    "mean_price_undamaged = undamaged['price'].mean()\n",
    "\n",
    "print('{:^22}'.format('Mean Prices of Cars'))\n",
    "print('{:>10}: {:>5}'.format('All',int(mean_price_all)))\n",
    "print('{:>10}: {:>5}'.format('Damaged',int(mean_price_damaged)))\n",
    "print('{:>10}: {:>5}'.format('Undamaged',int(mean_price_undamaged)))"
   ]
  },
  {
   "cell_type": "markdown",
   "id": "a2441019",
   "metadata": {},
   "source": [
    "As we can see above, the price of a damaged car is significantly lower than undamaged cars. On average an undamaged car is almost $5000 cheaper than a damaged one. That's quite significant I think. This would make sense because people don't typically want to buy damaged goods."
   ]
  },
  {
   "cell_type": "markdown",
   "id": "ec24617e",
   "metadata": {},
   "source": [
    "## Conclusion\n",
    "\n",
    "We have utilized pandas and NumPy to quickly and easily clean, sort, and manipulate a large set of data. There were many things that required cleaning, as well as things that were technically fine, but needed to be changed for improved readability. We made heavy use of DataFrames in this project, as well as boolean index masking and aggregation. \n",
    "\n",
    "In terms of cars, it should be no surprise that there are usually three \"tiers\": cheap, average, and expensive. Some cheap cars have low mileage, for example Tabant and Lada. Some expensive cars such as Sonstige Autos and Mini also have rather decent mileage for their price tag. As mentioned earlier there is a very slight trend to the more expensive vehicles having higher mileage, with the less expensive vehicles having lower mileage.\n",
    "\n",
    "There are other factors at play as well. Obviously really famous and popular brands such as Porsche will typically be more expensive and overpriced. Damaged cars will typically be cheaper as well."
   ]
  }
 ],
 "metadata": {
  "kernelspec": {
   "display_name": "Python 3",
   "language": "python",
   "name": "python3"
  },
  "language_info": {
   "codemirror_mode": {
    "name": "ipython",
    "version": 3
   },
   "file_extension": ".py",
   "mimetype": "text/x-python",
   "name": "python",
   "nbconvert_exporter": "python",
   "pygments_lexer": "ipython3",
   "version": "3.8.8"
  }
 },
 "nbformat": 4,
 "nbformat_minor": 5
}
